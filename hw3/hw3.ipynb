{
 "cells": [
  {
   "cell_type": "code",
   "execution_count": 1,
   "id": "febf9661",
   "metadata": {},
   "outputs": [],
   "source": [
    "import numpy as np\n",
    "\n",
    "import pandas as pd\n",
    "\n",
    "import urllib.request\n",
    "import os\n",
    "\n",
    "from IPython.display import Image \n",
    "\n",
    "import matplotlib.pyplot as plt\n",
    "\n",
    "#import warnings\n",
    "#warnings.filterwarnings(\"ignore\")"
   ]
  },
  {
   "cell_type": "markdown",
   "id": "e6ffde05",
   "metadata": {},
   "source": [
    "### Задание\n",
    "\n",
    "Проанализировать мультимодальный датасет\n",
    "\n",
    "Описать принцип связки мультимодальных данных\n",
    "\n",
    "Провести предобработку данных\n",
    "\n",
    "Сделать EDA\n",
    "\n",
    "Проанализировать возможное применение этих данных"
   ]
  },
  {
   "cell_type": "markdown",
   "id": "94dd9dc2",
   "metadata": {},
   "source": [
    "### Решение"
   ]
  },
  {
   "cell_type": "markdown",
   "id": "52a63830",
   "metadata": {},
   "source": [
    "Возьмем мультимодальный датасет (изображения и текст)\n",
    "\n",
    "Wikipedia-based Image Text (WIT) Dataset"
   ]
  },
  {
   "cell_type": "code",
   "execution_count": 2,
   "id": "04f52ced",
   "metadata": {},
   "outputs": [],
   "source": [
    "data = pd.read_table('wit_v1.train.all-1percent_sample.tsv')"
   ]
  },
  {
   "cell_type": "code",
   "execution_count": 3,
   "id": "a35faac2",
   "metadata": {},
   "outputs": [
    {
     "data": {
      "text/html": [
       "<div>\n",
       "<style scoped>\n",
       "    .dataframe tbody tr th:only-of-type {\n",
       "        vertical-align: middle;\n",
       "    }\n",
       "\n",
       "    .dataframe tbody tr th {\n",
       "        vertical-align: top;\n",
       "    }\n",
       "\n",
       "    .dataframe thead th {\n",
       "        text-align: right;\n",
       "    }\n",
       "</style>\n",
       "<table border=\"1\" class=\"dataframe\">\n",
       "  <thead>\n",
       "    <tr style=\"text-align: right;\">\n",
       "      <th></th>\n",
       "      <th>language</th>\n",
       "      <th>page_url</th>\n",
       "      <th>image_url</th>\n",
       "      <th>page_title</th>\n",
       "      <th>section_title</th>\n",
       "      <th>hierarchical_section_title</th>\n",
       "      <th>caption_reference_description</th>\n",
       "      <th>caption_attribution_description</th>\n",
       "      <th>caption_alt_text_description</th>\n",
       "      <th>mime_type</th>\n",
       "      <th>original_height</th>\n",
       "      <th>original_width</th>\n",
       "      <th>is_main_image</th>\n",
       "      <th>attribution_passes_lang_id</th>\n",
       "      <th>page_changed_recently</th>\n",
       "      <th>context_page_description</th>\n",
       "      <th>context_section_description</th>\n",
       "    </tr>\n",
       "  </thead>\n",
       "  <tbody>\n",
       "    <tr>\n",
       "      <th>0</th>\n",
       "      <td>es</td>\n",
       "      <td>https://es.wikipedia.org/wiki/Hoz_y_martillo</td>\n",
       "      <td>https://upload.wikimedia.org/wikipedia/commons...</td>\n",
       "      <td>Hoz y martillo</td>\n",
       "      <td>Emblemas</td>\n",
       "      <td>Hoz y martillo / Galería / Emblemas</td>\n",
       "      <td>NaN</td>\n",
       "      <td>Galego: Logo do Movemento Galego ao Socialismo</td>\n",
       "      <td>NaN</td>\n",
       "      <td>image/jpeg</td>\n",
       "      <td>107</td>\n",
       "      <td>272</td>\n",
       "      <td>False</td>\n",
       "      <td>False</td>\n",
       "      <td>True</td>\n",
       "      <td>La hoz y el martillo es un símbolo que represe...</td>\n",
       "      <td>NaN</td>\n",
       "    </tr>\n",
       "    <tr>\n",
       "      <th>1</th>\n",
       "      <td>de</td>\n",
       "      <td>https://de.wikipedia.org/wiki/Kleines_Hasenmaul</td>\n",
       "      <td>https://upload.wikimedia.org/wikipedia/commons...</td>\n",
       "      <td>Kleines Hasenmaul</td>\n",
       "      <td>NaN</td>\n",
       "      <td>Kleines Hasenmaul</td>\n",
       "      <td>NaN</td>\n",
       "      <td>English: Lesser bulldog bat (Noctilio albivent...</td>\n",
       "      <td>NaN</td>\n",
       "      <td>image/jpeg</td>\n",
       "      <td>1636</td>\n",
       "      <td>2000</td>\n",
       "      <td>True</td>\n",
       "      <td>False</td>\n",
       "      <td>False</td>\n",
       "      <td>Das Kleine Hasenmaul ist eine Fledermausart au...</td>\n",
       "      <td>Das Kleine Hasenmaul (Noctilio albiventris) is...</td>\n",
       "    </tr>\n",
       "    <tr>\n",
       "      <th>2</th>\n",
       "      <td>ru</td>\n",
       "      <td>https://ru.wikipedia.org/wiki/%D0%A3%D0%BA%D1%...</td>\n",
       "      <td>https://upload.wikimedia.org/wikipedia/commons...</td>\n",
       "      <td>Украинская гривна</td>\n",
       "      <td>Изъятые из обращения монеты</td>\n",
       "      <td>Украинская гривна / Монеты / Изъятые из обраще...</td>\n",
       "      <td>NaN</td>\n",
       "      <td>English: Coin of Ukraine Русский: Юбилейная мо...</td>\n",
       "      <td>NaN</td>\n",
       "      <td>image/jpeg</td>\n",
       "      <td>193</td>\n",
       "      <td>200</td>\n",
       "      <td>False</td>\n",
       "      <td>True</td>\n",
       "      <td>True</td>\n",
       "      <td>Гри́вна — национальная валюта Украины, названн...</td>\n",
       "      <td>С 1 июля 2018 года прекращён дополнительный вы...</td>\n",
       "    </tr>\n",
       "    <tr>\n",
       "      <th>3</th>\n",
       "      <td>ru</td>\n",
       "      <td>https://ru.wikipedia.org/wiki/%D0%9C%D0%B5%D0%...</td>\n",
       "      <td>http://upload.wikimedia.org/wikipedia/commons/...</td>\n",
       "      <td>Менделеево (Московская область)</td>\n",
       "      <td>NaN</td>\n",
       "      <td>Менделеево (Московская область)</td>\n",
       "      <td>NaN</td>\n",
       "      <td>English: mendeleevo</td>\n",
       "      <td>NaN</td>\n",
       "      <td>image/jpeg</td>\n",
       "      <td>1877</td>\n",
       "      <td>2756</td>\n",
       "      <td>True</td>\n",
       "      <td>True</td>\n",
       "      <td>False</td>\n",
       "      <td>Менделе́ево — посёлок городского типа Московск...</td>\n",
       "      <td>Менделе́ево — посёлок городского типа Московск...</td>\n",
       "    </tr>\n",
       "    <tr>\n",
       "      <th>4</th>\n",
       "      <td>sw</td>\n",
       "      <td>https://sw.wikipedia.org/wiki/Brookline,_Massa...</td>\n",
       "      <td>https://upload.wikimedia.org/wikipedia/commons...</td>\n",
       "      <td>Brookline, Massachusetts</td>\n",
       "      <td>NaN</td>\n",
       "      <td>Brookline, Massachusetts</td>\n",
       "      <td>Sehemu za Mji wa Brookline, Massachusetts</td>\n",
       "      <td>English: Brookline MA August 2015 Photo Collage 2</td>\n",
       "      <td>NaN</td>\n",
       "      <td>image/jpeg</td>\n",
       "      <td>1936</td>\n",
       "      <td>1936</td>\n",
       "      <td>False</td>\n",
       "      <td>False</td>\n",
       "      <td>True</td>\n",
       "      <td>Brookline ni mji wa Marekani katika jimbo la M...</td>\n",
       "      <td>Brookline ni mji wa Marekani katika jimbo la M...</td>\n",
       "    </tr>\n",
       "  </tbody>\n",
       "</table>\n",
       "</div>"
      ],
      "text/plain": [
       "  language                                           page_url  \\\n",
       "0       es       https://es.wikipedia.org/wiki/Hoz_y_martillo   \n",
       "1       de    https://de.wikipedia.org/wiki/Kleines_Hasenmaul   \n",
       "2       ru  https://ru.wikipedia.org/wiki/%D0%A3%D0%BA%D1%...   \n",
       "3       ru  https://ru.wikipedia.org/wiki/%D0%9C%D0%B5%D0%...   \n",
       "4       sw  https://sw.wikipedia.org/wiki/Brookline,_Massa...   \n",
       "\n",
       "                                           image_url  \\\n",
       "0  https://upload.wikimedia.org/wikipedia/commons...   \n",
       "1  https://upload.wikimedia.org/wikipedia/commons...   \n",
       "2  https://upload.wikimedia.org/wikipedia/commons...   \n",
       "3  http://upload.wikimedia.org/wikipedia/commons/...   \n",
       "4  https://upload.wikimedia.org/wikipedia/commons...   \n",
       "\n",
       "                        page_title                section_title  \\\n",
       "0                   Hoz y martillo                     Emblemas   \n",
       "1                Kleines Hasenmaul                          NaN   \n",
       "2                Украинская гривна  Изъятые из обращения монеты   \n",
       "3  Менделеево (Московская область)                          NaN   \n",
       "4         Brookline, Massachusetts                          NaN   \n",
       "\n",
       "                          hierarchical_section_title  \\\n",
       "0                Hoz y martillo / Galería / Emblemas   \n",
       "1                                  Kleines Hasenmaul   \n",
       "2  Украинская гривна / Монеты / Изъятые из обраще...   \n",
       "3                    Менделеево (Московская область)   \n",
       "4                           Brookline, Massachusetts   \n",
       "\n",
       "               caption_reference_description  \\\n",
       "0                                        NaN   \n",
       "1                                        NaN   \n",
       "2                                        NaN   \n",
       "3                                        NaN   \n",
       "4  Sehemu za Mji wa Brookline, Massachusetts   \n",
       "\n",
       "                     caption_attribution_description  \\\n",
       "0     Galego: Logo do Movemento Galego ao Socialismo   \n",
       "1  English: Lesser bulldog bat (Noctilio albivent...   \n",
       "2  English: Coin of Ukraine Русский: Юбилейная мо...   \n",
       "3                                English: mendeleevo   \n",
       "4  English: Brookline MA August 2015 Photo Collage 2   \n",
       "\n",
       "  caption_alt_text_description   mime_type  original_height  original_width  \\\n",
       "0                          NaN  image/jpeg              107             272   \n",
       "1                          NaN  image/jpeg             1636            2000   \n",
       "2                          NaN  image/jpeg              193             200   \n",
       "3                          NaN  image/jpeg             1877            2756   \n",
       "4                          NaN  image/jpeg             1936            1936   \n",
       "\n",
       "   is_main_image  attribution_passes_lang_id  page_changed_recently  \\\n",
       "0          False                       False                   True   \n",
       "1           True                       False                  False   \n",
       "2          False                        True                   True   \n",
       "3           True                        True                  False   \n",
       "4          False                       False                   True   \n",
       "\n",
       "                            context_page_description  \\\n",
       "0  La hoz y el martillo es un símbolo que represe...   \n",
       "1  Das Kleine Hasenmaul ist eine Fledermausart au...   \n",
       "2  Гри́вна — национальная валюта Украины, названн...   \n",
       "3  Менделе́ево — посёлок городского типа Московск...   \n",
       "4  Brookline ni mji wa Marekani katika jimbo la M...   \n",
       "\n",
       "                         context_section_description  \n",
       "0                                                NaN  \n",
       "1  Das Kleine Hasenmaul (Noctilio albiventris) is...  \n",
       "2  С 1 июля 2018 года прекращён дополнительный вы...  \n",
       "3  Менделе́ево — посёлок городского типа Московск...  \n",
       "4  Brookline ni mji wa Marekani katika jimbo la M...  "
      ]
     },
     "execution_count": 3,
     "metadata": {},
     "output_type": "execute_result"
    }
   ],
   "source": [
    "data.head(5)"
   ]
  },
  {
   "cell_type": "code",
   "execution_count": 4,
   "id": "2c1fe8a6",
   "metadata": {},
   "outputs": [
    {
     "data": {
      "text/plain": [
       "language                           object\n",
       "page_url                           object\n",
       "image_url                          object\n",
       "page_title                         object\n",
       "section_title                      object\n",
       "hierarchical_section_title         object\n",
       "caption_reference_description      object\n",
       "caption_attribution_description    object\n",
       "caption_alt_text_description       object\n",
       "mime_type                          object\n",
       "original_height                     int64\n",
       "original_width                      int64\n",
       "is_main_image                        bool\n",
       "attribution_passes_lang_id           bool\n",
       "page_changed_recently                bool\n",
       "context_page_description           object\n",
       "context_section_description        object\n",
       "dtype: object"
      ]
     },
     "execution_count": 4,
     "metadata": {},
     "output_type": "execute_result"
    }
   ],
   "source": [
    "data.dtypes"
   ]
  },
  {
   "cell_type": "markdown",
   "id": "b2cdaf5a",
   "metadata": {},
   "source": [
    "Each row of the WIT dataset consists of 17 columns and they are as follows in this order.\n",
    "\n",
    "FIELD_NAME\tFIELD_TYPE\n",
    "\n",
    "language\tstring\n",
    "\n",
    "page_url\tstring\n",
    "\n",
    "image_url\tstring\n",
    "\n",
    "page_title\tstring\n",
    "\n",
    "section_title\tstring\n",
    "\n",
    "hierarchical_section_title\tstring\n",
    "\n",
    "caption_reference_description\tstring\n",
    "\n",
    "caption_attribution_description\tstring\n",
    "\n",
    "caption_alt_text_description\tstring\n",
    "\n",
    "mime_type\tstring\n",
    "\n",
    "original_height\tint\n",
    "\n",
    "original_width\tint\n",
    "\n",
    "is_main_image\tbool\n",
    "\n",
    "attribution_passes_lang_id\tbool\n",
    "\n",
    "page_changed_recently\tbool\n",
    "\n",
    "context_page_description\tstring\n",
    "\n",
    "context_section_description\tstring"
   ]
  },
  {
   "cell_type": "markdown",
   "id": "f5a91c37",
   "metadata": {},
   "source": [
    "Как связына данные?\n",
    "\n",
    "Есть признаки, отвечающие за страницу - язык страницы, ссылка на страницу, название, описание и т.д.\n",
    "\n",
    "Есть признаки, отвечающие за картинки на страницах - ссылка на страницу, название картинки, описание картинки, ширина, высота. Для исследования мультимодальности нас интересуют они.\n",
    "\n",
    "Каждая строка в датасете относится к одной картинке. "
   ]
  },
  {
   "cell_type": "code",
   "execution_count": 5,
   "id": "baa1214f",
   "metadata": {},
   "outputs": [
    {
     "data": {
      "text/plain": [
       "(370373, 17)"
      ]
     },
     "execution_count": 5,
     "metadata": {},
     "output_type": "execute_result"
    }
   ],
   "source": [
    "data.shape"
   ]
  },
  {
   "cell_type": "markdown",
   "id": "0ea3ff33",
   "metadata": {},
   "source": [
    "Проверим наличие дубликатов. Для последующей работы с датасетом важно будет их убрать"
   ]
  },
  {
   "cell_type": "code",
   "execution_count": 6,
   "id": "2a917bbd",
   "metadata": {},
   "outputs": [
    {
     "data": {
      "text/plain": [
       "112"
      ]
     },
     "execution_count": 6,
     "metadata": {},
     "output_type": "execute_result"
    }
   ],
   "source": [
    "data.duplicated().sum()"
   ]
  },
  {
   "cell_type": "code",
   "execution_count": 7,
   "id": "aea732c5",
   "metadata": {},
   "outputs": [],
   "source": [
    "data = data.drop_duplicates()"
   ]
  },
  {
   "cell_type": "code",
   "execution_count": 8,
   "id": "a9a98e35",
   "metadata": {},
   "outputs": [
    {
     "data": {
      "text/plain": [
       "0"
      ]
     },
     "execution_count": 8,
     "metadata": {},
     "output_type": "execute_result"
    }
   ],
   "source": [
    "data.duplicated().sum()"
   ]
  },
  {
   "cell_type": "code",
   "execution_count": 9,
   "id": "95f42a53",
   "metadata": {},
   "outputs": [
    {
     "data": {
      "text/plain": [
       "(370261, 17)"
      ]
     },
     "execution_count": 9,
     "metadata": {},
     "output_type": "execute_result"
    }
   ],
   "source": [
    "data.shape"
   ]
  },
  {
   "cell_type": "markdown",
   "id": "05ac612a",
   "metadata": {},
   "source": [
    "Проверим, где есть пропущенные значения и сколько их"
   ]
  },
  {
   "cell_type": "code",
   "execution_count": 10,
   "id": "f06a4702",
   "metadata": {},
   "outputs": [
    {
     "data": {
      "text/plain": [
       "language                             1608\n",
       "page_url                                0\n",
       "image_url                               0\n",
       "page_title                              0\n",
       "section_title                      191939\n",
       "hierarchical_section_title              7\n",
       "caption_reference_description      200904\n",
       "caption_attribution_description     22975\n",
       "caption_alt_text_description       316618\n",
       "mime_type                               0\n",
       "original_height                         0\n",
       "original_width                          0\n",
       "is_main_image                           0\n",
       "attribution_passes_lang_id              0\n",
       "page_changed_recently                   0\n",
       "context_page_description              384\n",
       "context_section_description         59751\n",
       "dtype: int64"
      ]
     },
     "execution_count": 10,
     "metadata": {},
     "output_type": "execute_result"
    }
   ],
   "source": [
    "data.isna().sum()"
   ]
  },
  {
   "cell_type": "markdown",
   "id": "aa6bab75",
   "metadata": {},
   "source": [
    "Интересный столбец is_main_image True/False, который говорит нам, является ли эта картинка главной на странице вики"
   ]
  },
  {
   "cell_type": "markdown",
   "id": "7bb68ab0",
   "metadata": {},
   "source": [
    "Доля таких картинок:"
   ]
  },
  {
   "cell_type": "code",
   "execution_count": 11,
   "id": "86335ae4",
   "metadata": {},
   "outputs": [
    {
     "data": {
      "text/plain": [
       "0.33095032963234045"
      ]
     },
     "execution_count": 11,
     "metadata": {},
     "output_type": "execute_result"
    }
   ],
   "source": [
    "data.is_main_image.sum()/data.shape[0] "
   ]
  },
  {
   "cell_type": "markdown",
   "id": "cee3738b",
   "metadata": {},
   "source": [
    "Посмотрим несколько картинок:"
   ]
  },
  {
   "cell_type": "code",
   "execution_count": 12,
   "id": "75433b05",
   "metadata": {
    "scrolled": false
   },
   "outputs": [
    {
     "name": "stdout",
     "output_type": "stream",
     "text": [
      "English: Lesser bulldog bat (Noctilio albiventris)\n"
     ]
    },
    {
     "data": {
      "text/html": [
       "<img src=\"picture1.jpg\" width=\"400\" height=\"400\"/>"
      ],
      "text/plain": [
       "<IPython.core.display.Image object>"
      ]
     },
     "execution_count": 12,
     "metadata": {},
     "output_type": "execute_result"
    }
   ],
   "source": [
    "urllib.request.urlretrieve(data.iloc[1].image_url, \"picture1.jpg\")\n",
    "print(data.iloc[1].caption_attribution_description)\n",
    "Image(url=\"picture1.jpg\", width=400, height=400)"
   ]
  },
  {
   "cell_type": "code",
   "execution_count": 13,
   "id": "10b56bfe",
   "metadata": {},
   "outputs": [
    {
     "name": "stdout",
     "output_type": "stream",
     "text": [
      "English: Hay Street 中文（繁體）‎: 禧街\n"
     ]
    },
    {
     "data": {
      "text/html": [
       "<img src=\"picture2.jpg\" width=\"400\" height=\"400\"/>"
      ],
      "text/plain": [
       "<IPython.core.display.Image object>"
      ]
     },
     "execution_count": 13,
     "metadata": {},
     "output_type": "execute_result"
    }
   ],
   "source": [
    "urllib.request.urlretrieve(data.iloc[5].image_url, \"picture2.jpg\")\n",
    "print(data.iloc[5].caption_attribution_description)\n",
    "Image(url=\"picture2.jpg\", width=400, height=400)"
   ]
  },
  {
   "cell_type": "code",
   "execution_count": 14,
   "id": "f4cea7a4",
   "metadata": {},
   "outputs": [
    {
     "name": "stdout",
     "output_type": "stream",
     "text": [
      "English: Typhoon Lekima at peak intensity on October 23, 2013\n"
     ]
    },
    {
     "data": {
      "text/html": [
       "<img src=\"picture3.jpg\" width=\"400\" height=\"400\"/>"
      ],
      "text/plain": [
       "<IPython.core.display.Image object>"
      ]
     },
     "execution_count": 14,
     "metadata": {},
     "output_type": "execute_result"
    }
   ],
   "source": [
    "urllib.request.urlretrieve(data.iloc[45].image_url, \"picture3.jpg\")\n",
    "print(data.iloc[45].caption_attribution_description)\n",
    "Image(url=\"picture3.jpg\", width=400, height=400)"
   ]
  },
  {
   "cell_type": "markdown",
   "id": "1e4f3c3d",
   "metadata": {},
   "source": [
    "Проверим, какого формата картинки встречаются"
   ]
  },
  {
   "cell_type": "code",
   "execution_count": 15,
   "id": "23062ddb",
   "metadata": {},
   "outputs": [
    {
     "name": "stdout",
     "output_type": "stream",
     "text": [
      "{'.jpg': 312988, '.png': 42428, '.svg': 10461, '.jpeg': 2875, '.gif': 1501, '.webp': 8}\n"
     ]
    }
   ],
   "source": [
    "counts = {}\n",
    "for url in data.image_url:\n",
    "    ext = os.path.splitext(url)[1].lower()\n",
    "    if ext in counts:\n",
    "        counts[ext] += 1\n",
    "    else:\n",
    "        counts[ext] = 1\n",
    "\n",
    "# Print the counts\n",
    "print(counts)"
   ]
  },
  {
   "cell_type": "code",
   "execution_count": 16,
   "id": "56c53fe2",
   "metadata": {
    "scrolled": true
   },
   "outputs": [
    {
     "data": {
      "image/png": "[encoded data removed]",
      "text/plain": [
       "<Figure size 432x288 with 1 Axes>"
      ]
     },
     "metadata": {
      "needs_background": "light"
     },
     "output_type": "display_data"
    }
   ],
   "source": [
    "plt.bar(counts.keys(), counts.values(), width=0.4, alpha=0.5)\n",
    "plt.xlabel('Форматы')\n",
    "plt.ylabel('Количество')\n",
    "plt.title('Распределение форматов картинок в датасете')\n",
    "plt.show()"
   ]
  },
  {
   "cell_type": "markdown",
   "id": "5629f70b",
   "metadata": {},
   "source": [
    "Посмотрим, на каких доменных языках встречаются статьи"
   ]
  },
  {
   "cell_type": "markdown",
   "id": "e3a6cd67",
   "metadata": {},
   "source": [
    "Всего страниц языков:"
   ]
  },
  {
   "cell_type": "code",
   "execution_count": 17,
   "id": "77d9fef0",
   "metadata": {},
   "outputs": [
    {
     "data": {
      "text/plain": [
       "107"
      ]
     },
     "execution_count": 17,
     "metadata": {},
     "output_type": "execute_result"
    }
   ],
   "source": [
    "data.language.nunique()"
   ]
  },
  {
   "cell_type": "code",
   "execution_count": 18,
   "id": "6eef6d11",
   "metadata": {},
   "outputs": [
    {
     "data": {
      "text/plain": [
       "language\n",
       "en     54029\n",
       "de     33512\n",
       "fr     25585\n",
       "es     17549\n",
       "ru     15182\n",
       "       ...  \n",
       "cv       164\n",
       "xmf      159\n",
       "ia       158\n",
       "si       155\n",
       "ckb      126\n",
       "Name: count, Length: 107, dtype: int64"
      ]
     },
     "execution_count": 18,
     "metadata": {},
     "output_type": "execute_result"
    }
   ],
   "source": [
    "data.language.value_counts()"
   ]
  },
  {
   "cell_type": "code",
   "execution_count": 19,
   "id": "6b5bebc6",
   "metadata": {},
   "outputs": [
    {
     "data": {
      "image/png": "[encoded data removed]",
      "text/plain": [
       "<Figure size 432x288 with 1 Axes>"
      ]
     },
     "metadata": {
      "needs_background": "light"
     },
     "output_type": "display_data"
    }
   ],
   "source": [
    "CountStatus = data.language.value_counts().reset_index()\n",
    "CountStatus.columns = ['language', 'amount']\n",
    "plt.bar(CountStatus['language'][:10], CountStatus['amount'][:10])\n",
    "plt.xlabel('Язык')\n",
    "plt.ylabel('Количество картинок в статях')\n",
    "plt.title('Топ-10 языков')\n",
    "plt.show()"
   ]
  },
  {
   "cell_type": "markdown",
   "id": "043ccbc7",
   "metadata": {},
   "source": [
    "Больше всего записей на en.wikipedia."
   ]
  },
  {
   "cell_type": "markdown",
   "id": "c8047ddf",
   "metadata": {},
   "source": [
    "Предобработка данных"
   ]
  },
  {
   "cell_type": "markdown",
   "id": "5acbcf57",
   "metadata": {},
   "source": [
    "Удалим строки, где столбец caption_attribution_description пустой"
   ]
  },
  {
   "cell_type": "code",
   "execution_count": 20,
   "id": "eff90f60",
   "metadata": {},
   "outputs": [],
   "source": [
    "df = data.copy()"
   ]
  },
  {
   "cell_type": "code",
   "execution_count": 21,
   "id": "42f44f1e",
   "metadata": {},
   "outputs": [],
   "source": [
    "df = df.dropna(subset=['caption_attribution_description'])"
   ]
  },
  {
   "cell_type": "markdown",
   "id": "1ef5f24d",
   "metadata": {},
   "source": [
    "Везде, где возможно, выделим англиское описание картинки."
   ]
  },
  {
   "cell_type": "code",
   "execution_count": 22,
   "id": "a57991a3",
   "metadata": {},
   "outputs": [],
   "source": [
    "#list_ = df['caption_attribution_description'][2].split(':')"
   ]
  },
  {
   "cell_type": "code",
   "execution_count": 23,
   "id": "21137010",
   "metadata": {},
   "outputs": [],
   "source": [
    "def extract_text_after_language(text):\n",
    "    if 'English:' in text: \n",
    "        try: \n",
    "            list_ = text.split(':')\n",
    "            english_text = ' '.join(list_[list_.index('English')+1:][0].split(' ')[:-1])\n",
    "            return english_text\n",
    "        except:\n",
    "            return None\n",
    "    else:\n",
    "        return None\n",
    "    "
   ]
  },
  {
   "cell_type": "code",
   "execution_count": 24,
   "id": "be7be45b",
   "metadata": {},
   "outputs": [],
   "source": [
    "df['extracted_description'] = df['caption_attribution_description'].apply(lambda x: extract_text_after_language(x))"
   ]
  },
  {
   "cell_type": "code",
   "execution_count": 25,
   "id": "b0d4e5f9",
   "metadata": {},
   "outputs": [
    {
     "data": {
      "text/plain": [
       "(347286, 18)"
      ]
     },
     "execution_count": 25,
     "metadata": {},
     "output_type": "execute_result"
    }
   ],
   "source": [
    "df.shape"
   ]
  },
  {
   "cell_type": "code",
   "execution_count": 26,
   "id": "f4eb00b7",
   "metadata": {},
   "outputs": [],
   "source": [
    "df = df.dropna(subset=['extracted_description'])"
   ]
  },
  {
   "cell_type": "code",
   "execution_count": 27,
   "id": "9bd417fb",
   "metadata": {},
   "outputs": [
    {
     "data": {
      "text/plain": [
       "(141095, 18)"
      ]
     },
     "execution_count": 27,
     "metadata": {},
     "output_type": "execute_result"
    }
   ],
   "source": [
    "df.shape"
   ]
  },
  {
   "cell_type": "markdown",
   "id": "97c713a9",
   "metadata": {},
   "source": [
    "То есть статей на en.wikipedia на английском языке было 54071, а мы выделили из описания картинок описания на английском языке. И их 141 095 записей."
   ]
  },
  {
   "cell_type": "markdown",
   "id": "4f7d0284",
   "metadata": {},
   "source": [
    "Далее можно работать над задачей машинного обучения"
   ]
  },
  {
   "cell_type": "markdown",
   "id": "f21f9eb1",
   "metadata": {},
   "source": [
    "### Заключение"
   ]
  },
  {
   "cell_type": "markdown",
   "id": "109ed3ba",
   "metadata": {},
   "source": [
    "Мы рассмотрели набор данных WIT, который является мультимодальным, поскольку включает в себя как изображения, так и связанные с ними текстовые данные. Он считается одним из крупнейших и наиболее разнообразных общедоступных мультимодальных многоязычных наборов данных, что делает его пригодным для широкого спектра исследовательских приложений.\n",
    "\n",
    "Например, генерация картинки по описанию, генерация названия к картинке."
   ]
  },
  {
   "cell_type": "code",
   "execution_count": null,
   "id": "e2c0fb92",
   "metadata": {},
   "outputs": [],
   "source": []
  }
 ],
 "metadata": {
  "kernelspec": {
   "display_name": "Python 3",
   "language": "python",
   "name": "python3"
  },
  "language_info": {
   "codemirror_mode": {
    "name": "ipython",
    "version": 3
   },
   "file_extension": ".py",
   "mimetype": "text/x-python",
   "name": "python",
   "nbconvert_exporter": "python",
   "pygments_lexer": "ipython3",
   "version": "3.8.10"
  }
 },
 "nbformat": 4,
 "nbformat_minor": 5
}
